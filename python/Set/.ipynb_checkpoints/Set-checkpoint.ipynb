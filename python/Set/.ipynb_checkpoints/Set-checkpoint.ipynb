{
 "cells": [
  {
   "cell_type": "code",
   "execution_count": 1,
   "metadata": {},
   "outputs": [
    {
     "name": "stdout",
     "output_type": "stream",
     "text": [
      "{1, 2, 3, 4, 'b'}\n"
     ]
    }
   ],
   "source": [
    "x = {1,2,3,4,'b'}\n",
    "print(x)"
   ]
  },
  {
   "cell_type": "code",
   "execution_count": 8,
   "metadata": {},
   "outputs": [
    {
     "name": "stdout",
     "output_type": "stream",
     "text": [
      "{1, 2, 3, 4, 33, 66, 99, 'd', 22, 'b'}\n",
      "set()\n",
      "{1, 2, 3, 4, 'b'}\n",
      "{33, 66, 99, 'd', 22}\n",
      "{1, 66, 2, 3, 4, 22, 'b', 33, 99, 'd'}\n"
     ]
    }
   ],
   "source": [
    "#union\n",
    "y = {22,33,66,99,'d'}\n",
    "print(x|y)\n",
    "# #intersection\n",
    "print(x&y)\n",
    "#difference\n",
    "print(x-y)\n",
    "print(y-x)\n",
    "#symmetric difference\n",
    "print(x^y)"
   ]
  },
  {
   "cell_type": "code",
   "execution_count": null,
   "metadata": {},
   "outputs": [],
   "source": []
  }
 ],
 "metadata": {
  "kernelspec": {
   "display_name": "Python 3",
   "language": "python",
   "name": "python3"
  },
  "language_info": {
   "codemirror_mode": {
    "name": "ipython",
    "version": 3
   },
   "file_extension": ".py",
   "mimetype": "text/x-python",
   "name": "python",
   "nbconvert_exporter": "python",
   "pygments_lexer": "ipython3",
   "version": "3.8.3"
  }
 },
 "nbformat": 4,
 "nbformat_minor": 4
}
