{
 "cells": [
  {
   "cell_type": "code",
   "execution_count": 1,
   "metadata": {},
   "outputs": [
    {
     "name": "stdout",
     "output_type": "stream",
     "text": [
      "[]\n",
      "<class 'list'>\n"
     ]
    }
   ],
   "source": [
    "y = []\n",
    "x = list(y)\n",
    "print(x)\n",
    "print(type(x))\n"
   ]
  },
  {
   "cell_type": "code",
   "execution_count": 2,
   "metadata": {},
   "outputs": [
    {
     "name": "stdout",
     "output_type": "stream",
     "text": [
      "['1', '2', '3', 'alfa', 'beta']\n",
      "<class 'list'>\n",
      "2012157160640\n"
     ]
    }
   ],
   "source": [
    "a = ['1', '2', '3', 'alfa', 'beta']\n",
    "b = list(a)\n",
    "print(b)\n",
    "print(type(b))\n",
    "print(id(b))"
   ]
  },
  {
   "cell_type": "code",
   "execution_count": 18,
   "metadata": {},
   "outputs": [
    {
     "name": "stdout",
     "output_type": "stream",
     "text": [
      "['a', 'Hello', 'Welcome', 36, 64, 100, 'World', 100]\n",
      "['a', 'Hello', 'Welcome', 36, 64, 100, 'a', 'Hello', 'Welcome', 36, 64, 100, 'a', 'Hello', 'Welcome', 36, 64, 100, 'a', 'Hello', 'Welcome', 36, 64, 100, 'a', 'Hello', 'Welcome', 36, 64, 100, 'a', 'Hello', 'Welcome', 36, 64, 100]\n",
      "['Hello', 'Welcome', 36, 64]\n",
      "100\n",
      "None\n",
      "['a', 'Hello', 'Welcome', 36, 64, 100, 'Delta']\n",
      "['a', 'Hello', 'Welcome', 36, 64, 100, 'Delta', 'c', 'f']\n",
      "['a', 'CDS', 'Hello', 'Welcome', 36, 64, 100, 'Delta', 'c', 'f']\n",
      "['CDS', 'Hello', 'Welcome', 36, 64, 100, 'Delta', 'c', 'f']\n",
      "['CDS', 'Hello', 'Welcome', 36, 64, 100, 'Delta', 'c', 'f']\n",
      "['CDS', 'Hello', 'Welcome', 36, 64, 100, 'Delta', 'c', 'f', 'xyz']\n",
      "<class 'list'>\n",
      "2012157914880\n",
      "None\n"
     ]
    }
   ],
   "source": [
    "#Concatenation\n",
    "x = [\"a\", \"Hello\", \"Welcome\", 36, 64, 100]\n",
    "y = [\"World\", 100]\n",
    "print(x+y)\n",
    "#repeatation\n",
    "print(x * 6)\n",
    "#Slicing\n",
    "print(x[1:-1])\n",
    "#Indexing\n",
    "print(x[-1])\n",
    "#appending\n",
    "print(x.append(\"Delta\"))\n",
    "print(x)\n",
    "#extend\n",
    "x.extend([\"c\", \"f\"])\n",
    "print(x)\n",
    "#insert\n",
    "x.insert(1, 'CDS')\n",
    "print(x)\n",
    "#pop\n",
    "x.pop(0)\n",
    "print(x)\n",
    "\n",
    "print(x)\n",
    "m = x+['xyz']\n",
    "print(m)\n",
    "print(type(m))\n",
    "print(id(x))\n",
    "print(x.append('xyz'))"
   ]
  },
  {
   "cell_type": "code",
   "execution_count": null,
   "metadata": {},
   "outputs": [],
   "source": []
  }
 ],
 "metadata": {
  "kernelspec": {
   "display_name": "Python 3",
   "language": "python",
   "name": "python3"
  },
  "language_info": {
   "codemirror_mode": {
    "name": "ipython",
    "version": 3
   },
   "file_extension": ".py",
   "mimetype": "text/x-python",
   "name": "python",
   "nbconvert_exporter": "python",
   "pygments_lexer": "ipython3",
   "version": "3.8.3"
  }
 },
 "nbformat": 4,
 "nbformat_minor": 4
}
