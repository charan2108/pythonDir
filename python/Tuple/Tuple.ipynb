{
 "cells": [
  {
   "cell_type": "code",
   "execution_count": 6,
   "metadata": {},
   "outputs": [
    {
     "name": "stdout",
     "output_type": "stream",
     "text": [
      "('a', 'b', 'c', 44.5, 36, 'DeltaFOrce', 66)\n",
      "('a', 'b', 'c', 44.5, 36)\n",
      "a\n",
      "b\n",
      "c\n",
      "('c', 44.5, 36)\n",
      "('a', 'b', 'c')\n",
      "('a', 'b', 'c', 44.5, 36, 'a', 'b', 'c', 44.5, 36, 'a', 'b', 'c', 44.5, 36, 'a', 'b', 'c', 44.5, 36, 'a', 'b', 'c', 44.5, 36, 'a', 'b', 'c', 44.5, 36)\n",
      "2911198683840\n"
     ]
    }
   ],
   "source": [
    "Temperature = ('a', 'b',  'c', 44.5, 36)\n",
    "print(Temperature +('DeltaFOrce', 66))\n",
    "print(Temperature)\n",
    "print(Temperature[0])\n",
    "print(Temperature[1])\n",
    "print(Temperature[2])\n",
    "print(Temperature[2:])\n",
    "print(Temperature[:3])\n",
    "print(Temperature * 6)\n",
    "print(id(Temperature))"
   ]
  },
  {
   "cell_type": "code",
   "execution_count": 14,
   "metadata": {},
   "outputs": [
    {
     "name": "stdout",
     "output_type": "stream",
     "text": [
      "('abcd', 'delta', 'airforce', 22.86, 336.69, 'delta one', 666)\n",
      "('abcd', 'delta')\n",
      "()\n",
      "('airforce', 22.86, 336.69)\n",
      "('abcd', 'delta', 'airforce', 22.86, 336.69, 'abcd', 'delta', 'airforce', 22.86, 336.69, 'abcd', 'delta', 'airforce', 22.86, 336.69, 'abcd', 'delta', 'airforce', 22.86, 336.69, 'abcd', 'delta', 'airforce', 22.86, 336.69, 'abcd', 'delta', 'airforce', 22.86, 336.69, 'abcd', 'delta', 'airforce', 22.86, 336.69, 'abcd', 'delta', 'airforce', 22.86, 336.69, 'abcd', 'delta', 'airforce', 22.86, 336.69, 'abcd', 'delta', 'airforce', 22.86, 336.69, 'abcd', 'delta', 'airforce', 22.86, 336.69, 'abcd', 'delta', 'airforce', 22.86, 336.69)\n"
     ]
    }
   ],
   "source": [
    "tuple = ('abcd', 'delta', 'airforce', 22.86, 336.69)\n",
    "print(tuple+('delta one', 666))\n",
    "print(tuple[:2])\n",
    "print(tuple[2:-5])\n",
    "print(tuple[2:5])\n",
    "print(tuple * 12)"
   ]
  },
  {
   "cell_type": "code",
   "execution_count": null,
   "metadata": {},
   "outputs": [],
   "source": []
  }
 ],
 "metadata": {
  "kernelspec": {
   "display_name": "Python 3",
   "language": "python",
   "name": "python3"
  },
  "language_info": {
   "codemirror_mode": {
    "name": "ipython",
    "version": 3
   },
   "file_extension": ".py",
   "mimetype": "text/x-python",
   "name": "python",
   "nbconvert_exporter": "python",
   "pygments_lexer": "ipython3",
   "version": "3.8.3"
  }
 },
 "nbformat": 4,
 "nbformat_minor": 4
}
