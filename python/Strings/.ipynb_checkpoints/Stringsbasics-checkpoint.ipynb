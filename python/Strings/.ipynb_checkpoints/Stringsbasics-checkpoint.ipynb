{
 "cells": [
  {
   "cell_type": "code",
   "execution_count": 1,
   "metadata": {},
   "outputs": [
    {
     "name": "stdout",
     "output_type": "stream",
     "text": [
      "Welcome to the python coding\n",
      "28\n"
     ]
    }
   ],
   "source": [
    "#Introduction\n",
    "a = 'Welcome to the python coding'\n",
    "print(a)\n",
    "print(len(a))"
   ]
  },
  {
   "cell_type": "code",
   "execution_count": 2,
   "metadata": {},
   "outputs": [
    {
     "name": "stdout",
     "output_type": "stream",
     "text": [
      "Enter the name of employee: HBK\n",
      "Enter employee id: 30\n"
     ]
    }
   ],
   "source": [
    "#print the information\n",
    "name=\"HBK\"\n",
    "emp_id= 30\n",
    "print(\"Enter the name of employee:\", name)\n",
    "print(\"Enter employee id:\", emp_id)"
   ]
  },
  {
   "cell_type": "code",
   "execution_count": 6,
   "metadata": {},
   "outputs": [
    {
     "name": "stdout",
     "output_type": "stream",
     "text": [
      "\n",
      "\n",
      "\n",
      "Tata HAL company \n",
      "is located hyderabad TAAL comapny is\n",
      "located at hyderabad\n"
     ]
    }
   ],
   "source": [
    "#using the triple quotation\n",
    "locationa = \"\"\"Tata HAL company \n",
    "is located hyderabad\"\"\"\n",
    "print(\"\\n\\n\")\n",
    "locationb =\"\"\"TAAL comapny is\n",
    "located at hyderabad\"\"\"\n",
    "print(locationa, locationb)"
   ]
  },
  {
   "cell_type": "code",
   "execution_count": 9,
   "metadata": {},
   "outputs": [
    {
     "name": "stdout",
     "output_type": "stream",
     "text": [
      "Welcome to the 'python sessions' Welcome to the \"python\" sessions Welcome to the \"python \" sessions\n"
     ]
    }
   ],
   "source": [
    "#using single and double and triple qoutes inside quotes\n",
    "x1=\"Welcome to the 'python sessions'\"\n",
    "x2='Welcome to the \"python\" sessions'\n",
    "x3='''Welcome to the \"python \" sessions'''\n",
    "print(x1,x2,x3)"
   ]
  },
  {
   "cell_type": "code",
   "execution_count": 10,
   "metadata": {},
   "outputs": [
    {
     "name": "stdout",
     "output_type": "stream",
     "text": [
      "\n"
     ]
    }
   ],
   "source": [
    "d = ''\n",
    "print(d)"
   ]
  },
  {
   "cell_type": "code",
   "execution_count": 1,
   "metadata": {},
   "outputs": [
    {
     "name": "stdout",
     "output_type": "stream",
     "text": [
      "Hello World\n",
      "11\n",
      "H\n",
      "e\n",
      "l\n",
      "l\n",
      "o\n",
      " \n",
      "W\n",
      "o\n",
      "r\n",
      "l\n",
      "d\n",
      "\n",
      "H\n",
      "He\n",
      "Hel\n",
      "Hell\n",
      "Hello\n",
      "Hello \n",
      "Hello W\n",
      "Hello Wo\n",
      "Hello Wor\n",
      "Hello Worl\n",
      "Hello World\n",
      "\n",
      "e\n",
      "el\n",
      "ell\n",
      "ello\n",
      "ello \n",
      "ello W\n",
      "ello Wo\n",
      "ello Wor\n",
      "ello Worl\n",
      "ello World\n",
      "\n",
      "\n",
      "l\n",
      "ll\n",
      "llo\n",
      "llo \n",
      "llo W\n",
      "llo Wo\n",
      "llo Wor\n",
      "llo Worl\n",
      "llo World\n",
      "\n",
      "\n",
      "\n",
      "l\n",
      "lo\n",
      "lo \n",
      "lo W\n",
      "lo Wo\n",
      "lo Wor\n",
      "lo Worl\n",
      "lo World\n",
      "\n",
      "\n",
      "\n",
      "\n",
      "o\n",
      "o \n",
      "o W\n",
      "o Wo\n",
      "o Wor\n",
      "o Worl\n",
      "o World\n",
      "\n",
      "\n",
      "\n",
      "\n",
      "\n",
      " \n",
      " W\n",
      " Wo\n",
      " Wor\n",
      " Worl\n",
      " World\n",
      "\n",
      "\n",
      "\n",
      "\n",
      "\n",
      "\n",
      "W\n",
      "Wo\n",
      "Wor\n",
      "Worl\n",
      "World\n",
      "\n",
      "\n",
      "\n",
      "\n",
      "\n",
      "\n",
      "\n",
      "o\n",
      "or\n",
      "orl\n",
      "orld\n",
      "\n",
      "\n",
      "\n",
      "\n",
      "\n",
      "\n",
      "\n",
      "\n",
      "r\n",
      "rl\n",
      "rld\n"
     ]
    }
   ],
   "source": [
    "#indexing\n",
    "a = \"Hello World\"\n",
    "print(a)\n",
    "print(len(a))\n",
    "print(a[0])\n",
    "print(a[1])\n",
    "print(a[2])\n",
    "print(a[3])\n",
    "print(a[4])\n",
    "print(a[5])\n",
    "print(a[6])\n",
    "print(a[7])\n",
    "print(a[8])\n",
    "print(a[9])\n",
    "print(a[10])\n",
    "#positive indexing\n",
    "print(a[0:0])\n",
    "print(a[0:1])\n",
    "print(a[0:2])\n",
    "print(a[0:3])\n",
    "print(a[0:4])\n",
    "print(a[0:5])\n",
    "print(a[0:6])\n",
    "print(a[0:7])\n",
    "print(a[0:8])\n",
    "print(a[0:9])\n",
    "print(a[0:10])\n",
    "print(a[0:12])\n",
    "\n",
    "print(a[1:1])\n",
    "print(a[1:2])\n",
    "print(a[1:3])\n",
    "print(a[1:4])\n",
    "print(a[1:5])\n",
    "print(a[1:6])\n",
    "print(a[1:7])\n",
    "print(a[1:8])\n",
    "print(a[1:9])\n",
    "print(a[1:10])\n",
    "print(a[1:11])\n",
    "\n",
    "print(a[2:1])\n",
    "print(a[2:2])\n",
    "print(a[2:3])\n",
    "print(a[2:4])\n",
    "print(a[2:5])\n",
    "print(a[2:6])\n",
    "print(a[2:7])\n",
    "print(a[2:8])\n",
    "print(a[2:9])\n",
    "print(a[2:10])\n",
    "print(a[2:11])\n",
    "\n",
    "print(a[3:1])\n",
    "print(a[3:2])\n",
    "print(a[3:3])\n",
    "print(a[3:4])\n",
    "print(a[3:5])\n",
    "print(a[3:6])\n",
    "print(a[3:7])\n",
    "print(a[3:8])\n",
    "print(a[3:9])\n",
    "print(a[3:10])\n",
    "print(a[3:11])\n",
    "print(a[4:1])\n",
    "print(a[4:2])\n",
    "print(a[4:3])\n",
    "print(a[4:4])\n",
    "print(a[4:5])\n",
    "print(a[4:6])\n",
    "print(a[4:7])\n",
    "print(a[4:8])\n",
    "print(a[4:9])\n",
    "print(a[4:10])\n",
    "print(a[4:11])\n",
    "\n",
    "print(a[5:1])\n",
    "print(a[5:2])\n",
    "print(a[5:3])\n",
    "print(a[5:4])\n",
    "print(a[5:5])\n",
    "print(a[5:6])\n",
    "print(a[5:7])\n",
    "print(a[5:8])\n",
    "print(a[5:9])\n",
    "print(a[5:10])\n",
    "print(a[5:11])\n",
    "\n",
    "print(a[6:1])\n",
    "print(a[6:2])\n",
    "print(a[6:3])\n",
    "print(a[6:4])\n",
    "print(a[6:5])\n",
    "print(a[6:6])\n",
    "print(a[6:7])\n",
    "print(a[6:8])\n",
    "print(a[6:9])\n",
    "print(a[6:10])\n",
    "print(a[6:11])\n",
    "\n",
    "print(a[7:1])\n",
    "print(a[7:2])\n",
    "print(a[7:3])\n",
    "print(a[7:4])\n",
    "print(a[7:5])\n",
    "print(a[7:6])\n",
    "print(a[7:7])\n",
    "print(a[7:8])\n",
    "print(a[7:9])\n",
    "print(a[7:10])\n",
    "print(a[7:11])\n",
    "\n",
    "print(a[8:1])\n",
    "print(a[8:2])\n",
    "print(a[8:3])\n",
    "print(a[8:4])\n",
    "print(a[8:5])\n",
    "print(a[8:6])\n",
    "print(a[8:7])\n",
    "print(a[8:8])\n",
    "print(a[8:9])\n",
    "print(a[8:10])\n",
    "print(a[8:11])"
   ]
  },
  {
   "cell_type": "code",
   "execution_count": 14,
   "metadata": {},
   "outputs": [
    {
     "name": "stdout",
     "output_type": "stream",
     "text": [
      "Flight Performance\n",
      "18\n",
      "F\n",
      "l\n",
      "i\n",
      "g\n",
      "h\n",
      "t\n",
      " \n",
      "P\n",
      "e\n",
      "r\n",
      "o\n",
      "r\n",
      "m\n",
      "a\n",
      "n\n",
      "c\n",
      "e\n"
     ]
    }
   ],
   "source": [
    "#negative indexing\n",
    "c = 'Flight Performance'\n",
    "print(c)\n",
    "print(len(c))\n",
    "print(c[0])\n",
    "print(c[1])\n",
    "print(c[2])\n",
    "print(c[3])\n",
    "print(c[4])\n",
    "print(c[5])\n",
    "print(c[6])\n",
    "print(c[7])\n",
    "print(c[8])\n",
    "print(c[9])\n",
    "print(c[11])\n",
    "print(c[12])\n",
    "print(c[13])\n",
    "print(c[14])\n",
    "print(c[15])\n",
    "print(c[16])\n",
    "print(c[17])\n",
    "\n",
    "\n",
    "\n",
    "# print(type(c))\n",
    "# print(c[0:-9])\n",
    "# print(c[1:-8])\n",
    "# print(c[2:-7])\n",
    "# print(c[3:-6])\n",
    "# print(c[4:-5])\n",
    "# print(c[5:-4])\n",
    "# print(c[6:-3])\n",
    "# print(c[7:-2])\n",
    "# print(c[8:-1])\n",
    "\n",
    "\n",
    "\n",
    "\n",
    "\n",
    "\n",
    "\n"
   ]
  },
  {
   "cell_type": "code",
   "execution_count": 82,
   "metadata": {},
   "outputs": [
    {
     "name": "stdout",
     "output_type": "stream",
     "text": [
      "Aerospace Engineering\n",
      "21\n",
      "d[0] A\n",
      "d[1] e\n",
      "d[2] r\n",
      "d[3] o\n",
      "d[4] s\n",
      "d[5] p\n",
      "d[6] a\n",
      "d[7] c\n",
      "d[8] e\n",
      "d[9]  \n",
      "d[10] E\n",
      "d[11] n\n",
      "d[12] g\n",
      "d[13] i\n",
      "d[14] n\n",
      "d[15] e\n",
      "d[16] e\n",
      "d[17] r\n",
      "d[18] i\n",
      "d[19] n\n",
      "d[20] g\n",
      "Aerospace Engineering\n",
      "A\n",
      "Ae\n",
      "Aer\n",
      "Aero\n",
      "Aeros\n",
      "Aerosp\n",
      "Aerospa\n",
      "Aerospac\n",
      "Aerospace\n",
      "Aerospace \n",
      "Aerospace E\n",
      "Aerospace En\n",
      "Aerospace Eng\n",
      "Aerospace Engi\n",
      "Aerospace Engin\n",
      "Aerospace Engine\n",
      "Aerospace Enginee\n",
      "Aerospace Engineer\n",
      "Aerospace Engineeri\n",
      "Aerospace Engineerin\n",
      "Aerospace Engineering\n",
      "Aerospace Engineering\n",
      "A\n",
      "Ae\n",
      "Aer\n",
      "Aero\n",
      "Aeros\n",
      "Aerosp\n",
      "Aerospa\n",
      "Aerospac\n",
      "Aerospace\n",
      "Aerospace \n",
      "Aerospace E\n",
      "Aerospace En\n",
      "Aerospace Eng\n",
      "Aerospace Engi\n",
      "Aerospace Engin\n",
      "Aerospace Engine\n",
      "Aerospace Enginee\n",
      "Aerospace Engineer\n",
      "Aerospace Engineeri\n",
      "Aerospace Engineerin\n",
      "Aerospace Engineering\n",
      "Aerospace Engineering\n",
      "A\n",
      "A\n",
      "Ar\n",
      "Ar\n",
      "Ars\n",
      "Ars\n",
      "Arsa\n",
      "Arsa\n",
      "Arsae\n",
      "Arsae\n",
      "ArsaeE\n",
      "ArsaeE\n",
      "ArsaeEg\n",
      "ArsaeEg\n",
      "ArsaeEgn\n"
     ]
    }
   ],
   "source": [
    "d = \"Aerospace Engineering\"\n",
    "print(d)\n",
    "print(len(d))\n",
    "print( \"d[0]\",d[0])\n",
    "print(\"d[1]\",d[1])\n",
    "print(\"d[2]\",d[2])\n",
    "print(\"d[3]\",d[3])\n",
    "print(\"d[4]\",d[4])\n",
    "print(\"d[5]\",d[5])\n",
    "print(\"d[6]\",d[6])\n",
    "print(\"d[7]\",d[7])\n",
    "print(\"d[8]\",d[8])\n",
    "print(\"d[9]\",d[9])\n",
    "print(\"d[10]\",d[10])\n",
    "print(\"d[11]\",d[11])\n",
    "print(\"d[12]\",d[12])\n",
    "print(\"d[13]\",d[13])\n",
    "print(\"d[14]\",d[14])\n",
    "print(\"d[15]\",d[15])\n",
    "print(\"d[16]\",d[16])\n",
    "print(\"d[17]\",d[17])\n",
    "print(\"d[18]\",d[18])\n",
    "print(\"d[19]\",d[19])\n",
    "print(\"d[20]\",d[20])\n",
    "\n",
    "#Accesssing from 0th to last\n",
    "print(d[::])\n",
    "print(d[:1])\n",
    "print(d[:2])\n",
    "print(d[:3])\n",
    "print(d[:4])\n",
    "print(d[:5])\n",
    "print(d[:6])\n",
    "print(d[:7])\n",
    "print(d[:8])\n",
    "print(d[:9])\n",
    "print(d[:10])\n",
    "print(d[:11])\n",
    "print(d[:12])\n",
    "print(d[:13])\n",
    "print(d[:14])\n",
    "print(d[:15])\n",
    "print(d[:16])\n",
    "print(d[:17])\n",
    "print(d[:18])\n",
    "print(d[:19])\n",
    "print(d[:20])\n",
    "print(d[:21])\n",
    "print(d[:22])\n",
    "#Accessing of 0th and 1st element\n",
    "print(d[0:1:1])\n",
    "print(d[0:2:1])\n",
    "print(d[0:3:1])\n",
    "print(d[0:4:1])\n",
    "print(d[0:5:1])\n",
    "print(d[0:6:1])\n",
    "print(d[0:7:1])\n",
    "print(d[0:8:1])\n",
    "print(d[0:9:1])\n",
    "print(d[0:10:1])\n",
    "print(d[0:11:1])\n",
    "print(d[0:12:1])\n",
    "print(d[0:13:1])\n",
    "print(d[0:14:1])\n",
    "print(d[0:15:1])\n",
    "print(d[0:16:1])\n",
    "print(d[0:17:1])\n",
    "print(d[0:18:1])\n",
    "print(d[0:19:1])\n",
    "print(d[0:20:1])\n",
    "print(d[0:21:1])\n",
    "print(d[0:22:1])\n",
    "\n",
    "# Accesing the intervsl eith 2\n",
    "        \n",
    "print(d[0:1:2])\n",
    "print(d[0:2:2])\n",
    "print(d[0:3:2])\n",
    "print(d[0:4:2])\n",
    "print(d[0:5:2])\n",
    "print(d[0:6:2])\n",
    "print(d[0:7:2])\n",
    "print(d[0:8:2])\n",
    "print(d[0:9:2])\n",
    "print(d[0:10:2])\n",
    "print(d[0:11:2])\n",
    "print(d[0:12:2])\n",
    "print(d[0:13:2])\n",
    "print(d[0:14:2])\n",
    "print(d[0:15:2])\n"
   ]
  },
  {
   "cell_type": "code",
   "execution_count": 101,
   "metadata": {},
   "outputs": [
    {
     "name": "stdout",
     "output_type": "stream",
     "text": [
      "Ae\n",
      "Ar\n"
     ]
    }
   ],
   "source": [
    "#acessing from 1st and 2nd characters\n",
    "d=\"Aerospace engineering\"\n",
    "print(d[0:2:1])\n"
   ]
  },
  {
   "cell_type": "code",
   "execution_count": 103,
   "metadata": {},
   "outputs": [
    {
     "name": "stdout",
     "output_type": "stream",
     "text": [
      "ro\n",
      "rs\n"
     ]
    }
   ],
   "source": [
    "#accessing from 2nd and 3rd characters\n",
    "d =\"Aerospce engineering\"\n",
    "print(d[2:4:1])\n",
    "\n"
   ]
  },
  {
   "cell_type": "code",
   "execution_count": 112,
   "metadata": {},
   "outputs": [
    {
     "name": "stdout",
     "output_type": "stream",
     "text": [
      "\n",
      "A\n",
      "Ae\n",
      "Aer\n",
      "Aero\n",
      "Aeros\n",
      "Aerosp\n"
     ]
    }
   ],
   "source": [
    "print(d[:0:])\n",
    "print(d[:1:])\n",
    "print(d[:2:])\n",
    "print(d[:3:])\n",
    "print(d[:4:])\n",
    "print(d[:5:])\n",
    "print(d[:6:])"
   ]
  },
  {
   "cell_type": "code",
   "execution_count": 120,
   "metadata": {},
   "outputs": [
    {
     "name": "stdout",
     "output_type": "stream",
     "text": [
      "rin\n",
      "ri\n",
      "r\n",
      "erin\n"
     ]
    }
   ],
   "source": [
    "#negative indexing\n",
    "d ='Aerospace engineering'\n",
    "print(d[-4:-1])\n",
    "print(d[-4:-2])\n",
    "print(d[-4:-3])\n",
    "print(d[-5:-1])"
   ]
  },
  {
   "cell_type": "code",
   "execution_count": 2,
   "metadata": {},
   "outputs": [
    {
     "name": "stdout",
     "output_type": "stream",
     "text": [
      "The car name  is: Ferrari\n",
      "The car model is: F360\n",
      "The car manufactured  year is: 2020\n",
      "The car mileage is: 30\n"
     ]
    }
   ],
   "source": [
    "car_name=\"Ferrari\"\n",
    "car_model=\"F360\"\n",
    "car_manufactured=\"2020\"\n",
    "car_mileage=\"30\"\n",
    "print(\"The car name  is:\", car_name)\n",
    "print(\"The car model is:\", car_model)\n",
    "print(\"The car manufactured  year is:\", car_manufactured)\n",
    "print(\"The car mileage is:\", car_mileage)"
   ]
  },
  {
   "cell_type": "code",
   "execution_count": 4,
   "metadata": {},
   "outputs": [
    {
     "name": "stdout",
     "output_type": "stream",
     "text": [
      "THe falkunama palace is at  Engine bowli hyd\n",
      " THe chowmahalla palace is at old city\n"
     ]
    }
   ],
   "source": [
    "#Multi line information in string\n",
    "\n",
    "place1 = \"\"\"THe falkunama palace is at  Engine bowli hyd\"\"\"\n",
    "place2 = \"\"\" THe chowmahalla palace is at old city\"\"\"\n",
    "print(place1)\n",
    "print(place2)"
   ]
  },
  {
   "cell_type": "code",
   "execution_count": 94,
   "metadata": {},
   "outputs": [
    {
     "name": "stdout",
     "output_type": "stream",
     "text": [
      "Welcome to the \"udaypur palace\" in jaipur\n",
      "Welcome to the 'udaypur palace' in jaipur \n",
      "Welcome to the \"udaypur palace\" in jaipur\n",
      "Welcome to the 'udaypur palace' in jaipur\n",
      "Welcome to the \"\"\"udaypur palace\"\"\" in jaipur\n"
     ]
    }
   ],
   "source": [
    "#double and triple quotes\n",
    "loc1='Welcome to the \"udaypur palace\" in jaipur'\n",
    "loc2=\"Welcome to the 'udaypur palace' in jaipur \"\n",
    "loc3=\"\"\"Welcome to the \"udaypur palace\" in jaipur\"\"\"\n",
    "loc4=\"\"\"Welcome to the 'udaypur palace' in jaipur\"\"\"\n",
    "loc5='Welcome to the \"\"\"udaypur palace\"\"\" in jaipur'\n",
    "\n",
    "print(loc1)\n",
    "print(loc2)\n",
    "print(loc3)\n",
    "print(loc4)\n",
    "print(loc5)"
   ]
  },
  {
   "cell_type": "code",
   "execution_count": 8,
   "metadata": {},
   "outputs": [
    {
     "name": "stdout",
     "output_type": "stream",
     "text": [
      "\n"
     ]
    }
   ],
   "source": [
    "#Empty string\n",
    "\n",
    "delta1=\"\"\n",
    "print(delta1)"
   ]
  },
  {
   "cell_type": "code",
   "execution_count": 18,
   "metadata": {},
   "outputs": [
    {
     "name": "stdout",
     "output_type": "stream",
     "text": [
      "Delta force\n",
      "11\n",
      "D\n",
      "e\n",
      "l\n",
      "t\n",
      "a\n",
      " \n",
      "f\n",
      "o\n",
      "r\n",
      "c\n",
      "e\n",
      "\n",
      "\n",
      " new line\n",
      "\n",
      "\n",
      " new line\n",
      "\n",
      "\n",
      " new line\n",
      "e\n",
      "o\n"
     ]
    }
   ],
   "source": [
    "code = \"Delta force\"\n",
    "print(code)\n",
    "print(len(code))\n",
    "print(code[0])\n",
    "print(code[1])\n",
    "print(code[2])\n",
    "print(code[3])\n",
    "print(code[4])\n",
    "print(code[5])\n",
    "print(code[6])\n",
    "print(code[7])\n",
    "print(code[8])\n",
    "print(code[9])\n",
    "print(code[10])\n",
    "\n",
    "print(\"\\n\\n new line\")\n",
    "#Float\n",
    "print(code[1.5])\n",
    "print(\"\\n\\n new line\")\n",
    "#out of range\n",
    "code=\"deltaforce\"\n",
    "print(code[120])\n",
    "print(\"\\n\\n new line\")\n"
   ]
  },
  {
   "cell_type": "code",
   "execution_count": 21,
   "metadata": {},
   "outputs": [
    {
     "name": "stdout",
     "output_type": "stream",
     "text": [
      "e\n",
      "c\n",
      "r\n",
      "o\n",
      "f\n",
      "a\n",
      "t\n",
      "l\n",
      "e\n",
      "d\n"
     ]
    }
   ],
   "source": [
    "code = \"deltaforce\"\n",
    "#negative index\n",
    "print(code[-1])\n",
    "print(code[-2])\n",
    "#negative index\n",
    "print(code[-3])\n",
    "print(code[-4])\n",
    "#negative index\n",
    "print(code[-5])\n",
    "print(code[-6])\n",
    "#negative index\n",
    "print(code[-7])\n",
    "print(code[-8])\n",
    "#negative index\n",
    "print(code[-9])\n",
    "print(code[-10])"
   ]
  },
  {
   "cell_type": "code",
   "execution_count": 23,
   "metadata": {},
   "outputs": [
    {
     "name": "stdout",
     "output_type": "stream",
     "text": [
      "C\n",
      "o\n",
      "u\n",
      "n\n",
      "t\n",
      "e\n",
      "r\n",
      "s\n",
      "t\n",
      "r\n",
      "i\n",
      "k\n",
      "e\n"
     ]
    }
   ],
   "source": [
    "#String using loops\n",
    "name =\"Counterstrike\"\n",
    "for a in name:\n",
    "    print(a)"
   ]
  },
  {
   "cell_type": "code",
   "execution_count": 35,
   "metadata": {},
   "outputs": [
    {
     "name": "stdout",
     "output_type": "stream",
     "text": [
      "C\n",
      "o\n",
      "u\n",
      "n\n",
      "t\n",
      "e\n",
      "r\n",
      "s\n",
      "t\n",
      "r\n",
      "i\n",
      "\n",
      "\n",
      " newline \n",
      "\n",
      "\n",
      "Counterstrike\n",
      "Counterstrike\n",
      "Counterstr\n",
      "Counterst\n",
      "Cutrt\n",
      "Coun\n",
      "Cutrtie\n",
      "unterstrike\n",
      "Coun\n",
      "rik\n"
     ]
    }
   ],
   "source": [
    "name =\"Counterstrike\"\n",
    "print(name[0])\n",
    "print(name[1])\n",
    "print(name[2])\n",
    "print(name[3])\n",
    "print(name[4])\n",
    "print(name[5])\n",
    "print(name[6])\n",
    "print(name[7])\n",
    "print(name[8])\n",
    "print(name[9])\n",
    "print(name[10])\n",
    "\n",
    "print(\"\\n\\n newline \\n\\n\")\n",
    "print(name[::])\n",
    "print(name[:])\n",
    "print(name[0:10:1])\n",
    "print(name[0:9:1])\n",
    "print(name[0:9:2])\n",
    "print(name[0:4:1])\n",
    "print(name[::2])\n",
    "print(name[2::])\n",
    "print(name[:4:])\n",
    "print(name[-4:-1])"
   ]
  },
  {
   "cell_type": "code",
   "execution_count": 36,
   "metadata": {},
   "outputs": [
    {
     "name": "stdout",
     "output_type": "stream",
     "text": [
      "Hawk\n",
      "H\n"
     ]
    },
    {
     "ename": "TypeError",
     "evalue": "'str' object does not support item assignment",
     "output_type": "error",
     "traceback": [
      "\u001b[1;31m---------------------------------------------------------------------------\u001b[0m",
      "\u001b[1;31mTypeError\u001b[0m                                 Traceback (most recent call last)",
      "\u001b[1;32m<ipython-input-36-a5e125615df8>\u001b[0m in \u001b[0;36m<module>\u001b[1;34m\u001b[0m\n\u001b[0;32m      3\u001b[0m \u001b[0mprint\u001b[0m\u001b[1;33m(\u001b[0m\u001b[0mname\u001b[0m\u001b[1;33m)\u001b[0m\u001b[1;33m\u001b[0m\u001b[1;33m\u001b[0m\u001b[0m\n\u001b[0;32m      4\u001b[0m \u001b[0mprint\u001b[0m\u001b[1;33m(\u001b[0m\u001b[0mname\u001b[0m\u001b[1;33m[\u001b[0m\u001b[1;36m0\u001b[0m\u001b[1;33m]\u001b[0m\u001b[1;33m)\u001b[0m\u001b[1;33m\u001b[0m\u001b[1;33m\u001b[0m\u001b[0m\n\u001b[1;32m----> 5\u001b[1;33m \u001b[0mname\u001b[0m\u001b[1;33m[\u001b[0m\u001b[1;36m0\u001b[0m\u001b[1;33m]\u001b[0m\u001b[1;33m=\u001b[0m\u001b[1;34m\"a\"\u001b[0m\u001b[1;33m\u001b[0m\u001b[1;33m\u001b[0m\u001b[0m\n\u001b[0m",
      "\u001b[1;31mTypeError\u001b[0m: 'str' object does not support item assignment"
     ]
    }
   ],
   "source": [
    "#Immutable\n",
    "name =\"Hawk\"\n",
    "print(name)\n",
    "print(name[0])\n",
    "name[0]=\"a\""
   ]
  },
  {
   "cell_type": "code",
   "execution_count": 37,
   "metadata": {},
   "outputs": [
    {
     "name": "stdout",
     "output_type": "stream",
     "text": [
      "Stalth foles is a sniper in cds\n"
     ]
    }
   ],
   "source": [
    "#concatenation\n",
    "a = \"Stalth foley is\"\n",
    "b = \" a sniper in cds\"\n",
    "print(a+b)"
   ]
  },
  {
   "cell_type": "code",
   "execution_count": 38,
   "metadata": {},
   "outputs": [
    {
     "ename": "TypeError",
     "evalue": "can only concatenate str (not \"int\") to str",
     "output_type": "error",
     "traceback": [
      "\u001b[1;31m---------------------------------------------------------------------------\u001b[0m",
      "\u001b[1;31mTypeError\u001b[0m                                 Traceback (most recent call last)",
      "\u001b[1;32m<ipython-input-38-90421084c5a3>\u001b[0m in \u001b[0;36m<module>\u001b[1;34m\u001b[0m\n\u001b[0;32m      1\u001b[0m \u001b[0ma\u001b[0m \u001b[1;33m=\u001b[0m \u001b[1;34m\"Stealt foley\"\u001b[0m\u001b[1;33m\u001b[0m\u001b[1;33m\u001b[0m\u001b[0m\n\u001b[0;32m      2\u001b[0m \u001b[0mb\u001b[0m \u001b[1;33m=\u001b[0m \u001b[1;36m6\u001b[0m\u001b[1;33m\u001b[0m\u001b[1;33m\u001b[0m\u001b[0m\n\u001b[1;32m----> 3\u001b[1;33m \u001b[0mprint\u001b[0m\u001b[1;33m(\u001b[0m\u001b[0ma\u001b[0m\u001b[1;33m+\u001b[0m\u001b[0mb\u001b[0m\u001b[1;33m)\u001b[0m\u001b[1;33m\u001b[0m\u001b[1;33m\u001b[0m\u001b[0m\n\u001b[0m",
      "\u001b[1;31mTypeError\u001b[0m: can only concatenate str (not \"int\") to str"
     ]
    }
   ],
   "source": [
    "a = \"Stealt foley\"\n",
    "b = 6 \n",
    "print(a+b)"
   ]
  },
  {
   "cell_type": "code",
   "execution_count": 99,
   "metadata": {},
   "outputs": [
    {
     "ename": "TypeError",
     "evalue": "can't multiply sequence by non-int of type 'str'",
     "output_type": "error",
     "traceback": [
      "\u001b[1;31m---------------------------------------------------------------------------\u001b[0m",
      "\u001b[1;31mTypeError\u001b[0m                                 Traceback (most recent call last)",
      "\u001b[1;32m<ipython-input-99-f0b118f0d464>\u001b[0m in \u001b[0;36m<module>\u001b[1;34m\u001b[0m\n\u001b[0;32m      2\u001b[0m \u001b[0ma\u001b[0m \u001b[1;33m=\u001b[0m \u001b[1;34m\"Stealth foley\"\u001b[0m\u001b[1;33m\u001b[0m\u001b[1;33m\u001b[0m\u001b[0m\n\u001b[0;32m      3\u001b[0m \u001b[0mb\u001b[0m \u001b[1;33m=\u001b[0m \u001b[1;34m\"6\"\u001b[0m\u001b[1;33m\u001b[0m\u001b[1;33m\u001b[0m\u001b[0m\n\u001b[1;32m----> 4\u001b[1;33m \u001b[0mprint\u001b[0m\u001b[1;33m(\u001b[0m\u001b[0ma\u001b[0m \u001b[1;33m*\u001b[0m \u001b[0mb\u001b[0m\u001b[1;33m)\u001b[0m\u001b[1;33m\u001b[0m\u001b[1;33m\u001b[0m\u001b[0m\n\u001b[0m\u001b[0;32m      5\u001b[0m \u001b[1;33m\u001b[0m\u001b[0m\n\u001b[0;32m      6\u001b[0m \u001b[0ma\u001b[0m \u001b[1;33m=\u001b[0m \u001b[1;34m\"Stealth foley\"\u001b[0m\u001b[1;33m\u001b[0m\u001b[1;33m\u001b[0m\u001b[0m\n",
      "\u001b[1;31mTypeError\u001b[0m: can't multiply sequence by non-int of type 'str'"
     ]
    }
   ],
   "source": [
    "#Multiplication\n",
    "# a = \"Stealth foley\"\n",
    "# b = \"6\"\n",
    "# print(a * b)\n",
    "\n",
    "a = \"Stealth foley\"\n",
    "b = 12\n",
    "print(a * b)"
   ]
  },
  {
   "cell_type": "markdown",
   "metadata": {},
   "source": [
    "a = \"Stealt foley\"\n",
    "b = \"6\"\n",
    "print(a * b)"
   ]
  },
  {
   "cell_type": "code",
   "execution_count": 43,
   "metadata": {},
   "outputs": [
    {
     "name": "stdout",
     "output_type": "stream",
     "text": [
      "lenof the course is: 12\n"
     ]
    }
   ],
   "source": [
    "#length of the sring\n",
    "course = \"Aerodyanmics\"\n",
    "print(\"lenof the course is:\", len(course))"
   ]
  },
  {
   "cell_type": "code",
   "execution_count": 49,
   "metadata": {},
   "outputs": [
    {
     "name": "stdout",
     "output_type": "stream",
     "text": [
      "True\n",
      "True\n",
      "False\n",
      "True\n",
      "\n",
      " newline\n",
      "True\n",
      "False\n",
      "True\n"
     ]
    }
   ],
   "source": [
    "#In operatr\n",
    "print('p' in 'python')\n",
    "print('n' in 'python')\n",
    "print('z' in 'python')\n",
    "print('t' in 'python')\n",
    "print(\"\\n newline\")\n",
    "#not in operator\n",
    "print('s' not in 'python')\n",
    "print('o' not in'python')\n",
    "print('k' not in 'python')"
   ]
  },
  {
   "cell_type": "code",
   "execution_count": 55,
   "metadata": {},
   "outputs": [
    {
     "name": "stdout",
     "output_type": "stream",
     "text": [
      "Delta force is a gamedletaforce\n",
      "deltaforcedelta\n",
      "delta deos not exists\n"
     ]
    }
   ],
   "source": [
    "#find substring in main string\n",
    "main = input(\"Delta force is a game\")\n",
    "s = input(\"deltaforce\")\n",
    "if s in  main:\n",
    "    print(s,\"is a nice game\")\n",
    "else:\n",
    "    print(s,\"deos not exists\")"
   ]
  },
  {
   "cell_type": "code",
   "execution_count": 58,
   "metadata": {},
   "outputs": [
    {
     "name": "stdout",
     "output_type": "stream",
     "text": [
      "False\n",
      "both r not same\n"
     ]
    }
   ],
   "source": [
    "#comparisons\n",
    "sa1 = \"delta\"\n",
    "sa2=\"deltaforce\"\n",
    "print(sa1==sa2)\n",
    "if (sa1== sa2):\n",
    "    print(\"both r same\")\n",
    "else:\n",
    "        print(\"both r not same\")"
   ]
  },
  {
   "cell_type": "code",
   "execution_count": 62,
   "metadata": {},
   "outputs": [
    {
     "name": "stdout",
     "output_type": "stream",
     "text": [
      "Enter the employee name: Delytaforce\n",
      "Airbus Inc access granted to:  Delytaforce\n"
     ]
    }
   ],
   "source": [
    "#validation\n",
    "\n",
    "emp_name = \"Delytaforce\"\n",
    "name = input(\"Enter the employee name: \")\n",
    "if emp_name == name:\n",
    "    print(\"Airbus Inc access granted to: \", name)\n",
    "else:\n",
    "    print(\"Airbus access denied\")"
   ]
  },
  {
   "cell_type": "code",
   "execution_count": 63,
   "metadata": {},
   "outputs": [
    {
     "name": "stdout",
     "output_type": "stream",
     "text": [
      "False\n",
      "Not equaf\n"
     ]
    }
   ],
   "source": [
    "#remove spaces\n",
    "\n",
    "s1 = \"Abcd\"\n",
    "s2 = \"Abcdefg    \"\n",
    "print(s1==s2)\n",
    "if (s1==s2):\n",
    "    print(\"Bot r equal\")\n",
    "else:\n",
    "    print(\"Not equaf\")\n"
   ]
  },
  {
   "cell_type": "code",
   "execution_count": 64,
   "metadata": {},
   "outputs": [
    {
     "name": "stdout",
     "output_type": "stream",
     "text": [
      "the length of the game  with space is: 6\n",
      "lenth of game after rempving space is: 3\n"
     ]
    }
   ],
   "source": [
    "#remove spaces using strip\n",
    "game = \"DBC   \"\n",
    "print(\"the length of the game  with space is:\", len(game))\n",
    "x = game.strip()\n",
    "print(\"lenth of game after rempving space is:\", len(x))"
   ]
  },
  {
   "cell_type": "code",
   "execution_count": 65,
   "metadata": {},
   "outputs": [
    {
     "name": "stdout",
     "output_type": "stream",
     "text": [
      "The length of the game with spaces is 26\n",
      "the length of game after spaces is 24\n"
     ]
    }
   ],
   "source": [
    "#lstrip\n",
    "game = \"  Conflict Dwsert Storm   \"\n",
    "print(\"The length of the game with spaces is\", len(game))\n",
    "b  = game.lstrip()\n",
    "print(\"the length of game after spaces is\", len(b))"
   ]
  },
  {
   "cell_type": "code",
   "execution_count": 71,
   "metadata": {},
   "outputs": [
    {
     "name": "stdout",
     "output_type": "stream",
     "text": [
      "he length of the game with the spaces is 24\n",
      "the len of game1 afer space is  23\n"
     ]
    }
   ],
   "source": [
    "#rstrip\n",
    "game1 = \"Conflict Dwsert Storm   \"\n",
    "print(\"he length of the game with the spaces is\", len(game1))\n",
    "y = game.rstrip()\n",
    "print(\"the len of game1 afer space is \", len(y))"
   ]
  },
  {
   "cell_type": "code",
   "execution_count": 73,
   "metadata": {},
   "outputs": [
    {
     "name": "stdout",
     "output_type": "stream",
     "text": [
      "4\n",
      "3\n"
     ]
    }
   ],
   "source": [
    "#substrings using the find method\n",
    "sports = \"cricket\"\n",
    "print(sports.find(\"k\"))\n",
    "print(sports.find(\"c\", 1 ,10))"
   ]
  },
  {
   "cell_type": "code",
   "execution_count": 77,
   "metadata": {},
   "outputs": [
    {
     "name": "stdout",
     "output_type": "stream",
     "text": [
      "notFound\n"
     ]
    }
   ],
   "source": [
    "#index method\n",
    "s = \"Network Analysis Course\"\n",
    "try:\n",
    "    print(s.index(\"c\"))\n",
    "except ValueError:\n",
    "    print(\"notFound\")\n",
    "\n"
   ]
  },
  {
   "cell_type": "code",
   "execution_count": 78,
   "metadata": {},
   "outputs": [
    {
     "name": "stdout",
     "output_type": "stream",
     "text": [
      "1\n",
      "0\n"
     ]
    }
   ],
   "source": [
    "#Count\n",
    "c = \"Coding is a easy game\"\n",
    "print(c.count(\"Coding\"))\n",
    "print(c.count(\"hello\"))"
   ]
  },
  {
   "cell_type": "code",
   "execution_count": 80,
   "metadata": {},
   "outputs": [
    {
     "name": "stdout",
     "output_type": "stream",
     "text": [
      "Oracle is a coding source\n",
      "Python is a coding source\n",
      "2908533313984\n",
      "2908533304736\n"
     ]
    }
   ],
   "source": [
    "#Replace\n",
    "d1 = \"Oracle is a coding source\"\n",
    "d2 = d1.replace(\"Oracle\", \"Python\")\n",
    "print(d1)\n",
    "print(d2)\n",
    "print(id(d1))\n",
    "print(id(d2))"
   ]
  },
  {
   "cell_type": "code",
   "execution_count": 92,
   "metadata": {},
   "outputs": [
    {
     "name": "stdout",
     "output_type": "stream",
     "text": [
      "Befor splitting Flight Simulator\n",
      "After splitting ['Flight', 'Simulator']\n",
      "FLIGHT SIMULATOR\n",
      "flight simulator\n",
      "fLIGHT sIMULATOR\n",
      "Flight Simulator\n",
      "Flight simulator\n",
      "<class 'list'>\n",
      "['Flight', 'Simulator']\n",
      "['Flight Simulator']\n",
      "['Flight Simulator']\n",
      "['Flight Simulator']\n"
     ]
    }
   ],
   "source": [
    "#Splitting\n",
    "\n",
    "game = \"Flight Simulator\"\n",
    "b = game.split()\n",
    "print(\"Befor splitting\", game)\n",
    "print(\"After splitting\", b)\n",
    "print(game.upper())\n",
    "print(game.lower())\n",
    "print(game.swapcase())\n",
    "print(game.title())\n",
    "print(game.capitalize())\n",
    "print(type(b))\n",
    "for c in b:\n",
    "    print(b)\n",
    "    \n",
    "    #using sperpeator\n",
    "    b = game.split(\",\")\n",
    "    print(b)\n",
    "   "
   ]
  },
  {
   "cell_type": "code",
   "execution_count": null,
   "metadata": {},
   "outputs": [],
   "source": []
  }
 ],
 "metadata": {
  "kernelspec": {
   "display_name": "Python 3",
   "language": "python",
   "name": "python3"
  },
  "language_info": {
   "codemirror_mode": {
    "name": "ipython",
    "version": 3
   },
   "file_extension": ".py",
   "mimetype": "text/x-python",
   "name": "python",
   "nbconvert_exporter": "python",
   "pygments_lexer": "ipython3",
   "version": "3.8.3"
  }
 },
 "nbformat": 4,
 "nbformat_minor": 4
}
