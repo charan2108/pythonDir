{
 "cells": [
  {
   "cell_type": "code",
   "execution_count": 12,
   "metadata": {},
   "outputs": [
    {
     "name": "stdout",
     "output_type": "stream",
     "text": [
      "Aerospace-Engineering\n",
      "21\n",
      " The a[0] is A\n",
      " The a[1] is e\n",
      " The a[2] is r\n",
      " The a[3] is o\n",
      " The a[4] is s\n",
      " The a[5] is p\n",
      " The a[6] is a\n",
      " The a[7] is c\n",
      " The a[8] is e\n",
      " The a[9] is -\n",
      " The a[10] is E\n",
      " The a[11] is n\n",
      " The a[12] is g\n",
      " The a[13] is i\n",
      " The a[14] is n\n",
      " The a[15] is e\n",
      " The a[16] is e\n",
      " The a[17] is r\n",
      " The a[18] is i\n",
      " The a[19] is n\n",
      " The a[20] is g\n"
     ]
    }
   ],
   "source": [
    "a = 'Aerospace-Engineering'\n",
    "print(a)\n",
    "print(len(a))\n",
    "\n",
    "print(\" The a[0] is\", a[0])\n",
    "print(\" The a[1] is\", a[1])\n",
    "print(\" The a[2] is\", a[2])\n",
    "print(\" The a[3] is\", a[3])\n",
    "print(\" The a[4] is\", a[4])\n",
    "print(\" The a[5] is\", a[5])\n",
    "print(\" The a[6] is\", a[6])\n",
    "print(\" The a[7] is\", a[7])\n",
    "print(\" The a[8] is\", a[8])\n",
    "print(\" The a[9] is\", a[9])\n",
    "print(\" The a[10] is\",a[10])\n",
    "print(\" The a[11] is\", a[11])\n",
    "print(\" The a[12] is\", a[12])\n",
    "print(\" The a[13] is\", a[13])\n",
    "print(\" The a[14] is\", a[14])\n",
    "print(\" The a[15] is\", a[15])\n",
    "print(\" The a[16] is\", a[16])\n",
    "print(\" The a[17] is\", a[17])\n",
    "print(\" The a[18] is\", a[18])\n",
    "print(\" The a[19] is\", a[19])\n",
    "print(\" The a[20] is\", a[20])\n",
    "# print(\" The a[21] is\", a[21])\n",
    "# print(\" The a[22] is\", a[22])\n"
   ]
  },
  {
   "cell_type": "code",
   "execution_count": 36,
   "metadata": {},
   "outputs": [
    {
     "name": "stdout",
     "output_type": "stream",
     "text": [
      " The a[0:1] is A\n",
      " The a[0:2] is Ae\n",
      " The a[0:3] is Aer\n",
      " The a[0:4] is Aero\n",
      " The a[0:5] is Aeros\n",
      " The a[0:6] is Aerosp\n",
      " The a[0:7] is Aerospa\n",
      " The a[0:8] is Aerospac\n",
      " The a[0:9] is Aerospace\n",
      " The a[0:10]is Aerospace \n",
      " The a[0:11] is Aerospace E\n",
      " The a[0:12] is Aerospace En\n",
      " The a[0:13] is Aerospace Eng\n",
      " The a[0:14] is Aerospace Engi\n",
      " The a[0:15] is Aerospace Engin\n",
      " The a[0:16] is Aerospace Engine\n",
      " The a[0:17] is Aerospace Enginee\n",
      " The a[0:18] is Aerospace Engineer\n",
      " The a[0:19] is Aerospace Engineeri\n",
      " The a[0:20] is Aerospace Engineerin\n",
      " The a[0:21] is Aerospace Engineering\n"
     ]
    }
   ],
   "source": [
    "#positive index\n",
    "a = 'Aerospace Engineering'\n",
    "print(\" The a[0:1] is\", a[0:1])\n",
    "print(\" The a[0:2] is\", a[0:2])\n",
    "print(\" The a[0:3] is\", a[0:3])\n",
    "print(\" The a[0:4] is\", a[0:4])\n",
    "print(\" The a[0:5] is\", a[0:5])\n",
    "print(\" The a[0:6] is\", a[0:6])\n",
    "print(\" The a[0:7] is\", a[0:7])\n",
    "print(\" The a[0:8] is\", a[0:8])\n",
    "print(\" The a[0:9] is\", a[0:9])\n",
    "print(\" The a[0:10]is\",a[0:10])\n",
    "print(\" The a[0:11] is\",a[0:11])\n",
    "print(\" The a[0:12] is\", a[0:12])\n",
    "print(\" The a[0:13] is\", a[0:13])\n",
    "print(\" The a[0:14] is\", a[0:14])\n",
    "print(\" The a[0:15] is\", a[0:15])\n",
    "print(\" The a[0:16] is\", a[0:16])\n",
    "print(\" The a[0:17] is\", a[0:17])\n",
    "print(\" The a[0:18] is\", a[0:18])\n",
    "print(\" The a[0:19] is\", a[0:19])\n",
    "print(\" The a[0:20] is\", a[0:20])\n",
    "print(\" The a[0:21] is\", a[0:21])\n",
    "\n",
    "\n"
   ]
  },
  {
   "cell_type": "code",
   "execution_count": 37,
   "metadata": {},
   "outputs": [
    {
     "name": "stdout",
     "output_type": "stream",
     "text": [
      " the value of [1:3] er\n",
      " the value of [1:5] eros\n",
      " the value of [1:7] erospa\n",
      " the value of [1:9] erospace\n",
      " the value of [1:11] erospace E\n",
      " the value of [1:13] erospace Eng\n",
      " the value of [1:15] erospace Engin\n",
      " the value of [1:17] erospace Enginee\n",
      " the value of [1:19] erospace Engineeri\n"
     ]
    }
   ],
   "source": [
    "#positive index\n",
    "a = 'Aerospace Engineering'\n",
    "\n",
    "print(\" the value of [1:3]\", a[1:3])\n",
    "print(\" the value of [1:5]\", a[1:5])\n",
    "print(\" the value of [1:7]\", a[1:7])\n",
    "print(\" the value of [1:9]\", a[1:9])\n",
    "print(\" the value of [1:11]\", a[1:11])\n",
    "print(\" the value of [1:13]\", a[1:13])\n",
    "print(\" the value of [1:15]\", a[1:15])\n",
    "print(\" the value of [1:17]\", a[1:17])\n",
    "print(\" the value of [1:19]\", a[1:19])"
   ]
  },
  {
   "cell_type": "code",
   "execution_count": null,
   "metadata": {},
   "outputs": [],
   "source": []
  }
 ],
 "metadata": {
  "kernelspec": {
   "display_name": "Python 3",
   "language": "python",
   "name": "python3"
  },
  "language_info": {
   "codemirror_mode": {
    "name": "ipython",
    "version": 3
   },
   "file_extension": ".py",
   "mimetype": "text/x-python",
   "name": "python",
   "nbconvert_exporter": "python",
   "pygments_lexer": "ipython3",
   "version": "3.8.3"
  }
 },
 "nbformat": 4,
 "nbformat_minor": 4
}
