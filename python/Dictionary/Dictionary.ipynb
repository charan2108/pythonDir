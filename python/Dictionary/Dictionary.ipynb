{
 "cells": [
  {
   "cell_type": "code",
   "execution_count": 11,
   "metadata": {},
   "outputs": [
    {
     "name": "stdout",
     "output_type": "stream",
     "text": [
      "{1: 'Apple', 2: 'Orange', 3: 'Mango', 4: 'Grapes'}\n",
      "4\n",
      "dict_values(['Apple', 'Orange', 'Mango', 'Grapes'])\n",
      "None\n",
      "{1: 'Apple', 2: 'Orange', 3: 'Mango', 4: 'Grapes', 5: 'watermelon'}\n",
      "Orange\n"
     ]
    }
   ],
   "source": [
    "dict = {1:'Apple', 2:'Orange' ,3:'Mango', 4:'Grapes'}\n",
    "print(dict)\n",
    "print(len(dict))\n",
    "print(dict.values())\n",
    "print(dict.update({5:'watermelon'}))\n",
    "print(dict)\n",
    "print(dict.get(2))"
   ]
  },
  {
   "cell_type": "code",
   "execution_count": null,
   "metadata": {},
   "outputs": [],
   "source": []
  }
 ],
 "metadata": {
  "kernelspec": {
   "display_name": "Python 3",
   "language": "python",
   "name": "python3"
  },
  "language_info": {
   "codemirror_mode": {
    "name": "ipython",
    "version": 3
   },
   "file_extension": ".py",
   "mimetype": "text/x-python",
   "name": "python",
   "nbconvert_exporter": "python",
   "pygments_lexer": "ipython3",
   "version": "3.8.3"
  }
 },
 "nbformat": 4,
 "nbformat_minor": 4
}
