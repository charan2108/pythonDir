{
 "cells": [
  {
   "cell_type": "code",
   "execution_count": 1,
   "metadata": {},
   "outputs": [
    {
     "data": {
      "text/plain": [
       "(2+3j)"
      ]
     },
     "execution_count": 1,
     "metadata": {},
     "output_type": "execute_result"
    }
   ],
   "source": [
    "complex(2,3)"
   ]
  },
  {
   "cell_type": "code",
   "execution_count": 2,
   "metadata": {},
   "outputs": [
    {
     "data": {
      "text/plain": [
       "(6+9j)"
      ]
     },
     "execution_count": 2,
     "metadata": {},
     "output_type": "execute_result"
    }
   ],
   "source": [
    "complex(6,9)"
   ]
  },
  {
   "cell_type": "code",
   "execution_count": 4,
   "metadata": {},
   "outputs": [
    {
     "name": "stdout",
     "output_type": "stream",
     "text": [
      "The result is : (9+10j)\n"
     ]
    }
   ],
   "source": [
    "a = complex(3,2)\n",
    "b = complex(6,8)\n",
    "c= a+b\n",
    "print(\"The result is :\", c)"
   ]
  },
  {
   "cell_type": "code",
   "execution_count": 6,
   "metadata": {},
   "outputs": [
    {
     "ename": "NameError",
     "evalue": "name 'conjugate' is not defined",
     "output_type": "error",
     "traceback": [
      "\u001b[1;31m---------------------------------------------------------------------------\u001b[0m",
      "\u001b[1;31mNameError\u001b[0m                                 Traceback (most recent call last)",
      "\u001b[1;32m<ipython-input-6-80924ce9feef>\u001b[0m in \u001b[0;36m<module>\u001b[1;34m\u001b[0m\n\u001b[1;32m----> 1\u001b[1;33m \u001b[0md\u001b[0m \u001b[1;33m=\u001b[0m \u001b[0mconjugate\u001b[0m\u001b[1;33m(\u001b[0m\u001b[1;34m\"the conjugate is:\"\u001b[0m\u001b[1;33m,\u001b[0m \u001b[0mc\u001b[0m\u001b[1;33m)\u001b[0m\u001b[1;33m\u001b[0m\u001b[1;33m\u001b[0m\u001b[0m\n\u001b[0m",
      "\u001b[1;31mNameError\u001b[0m: name 'conjugate' is not defined"
     ]
    }
   ],
   "source": [
    "d = conjugate(\"the conjugate is:\", c)"
   ]
  },
  {
   "cell_type": "code",
   "execution_count": 10,
   "metadata": {},
   "outputs": [
    {
     "name": "stdout",
     "output_type": "stream",
     "text": [
      " ComplexNumber: The real part is given =  9.0\n",
      " ComplexNumber: The imaginary part is given= 10.0\n",
      " ComplexNumber: The conjugate number is given = (9-10j)\n"
     ]
    }
   ],
   "source": [
    "#print the real numner\n",
    "print(\" ComplexNumber: The real part is given = \", c.real)\n",
    "#print the complex number\n",
    "print(\" ComplexNumber: The imaginary part is given=\", c.imag)\n",
    "#conjugate\n",
    "print(\" ComplexNumber: The conjugate number is given =\", c.conjugate())"
   ]
  },
  {
   "cell_type": "code",
   "execution_count": 11,
   "metadata": {},
   "outputs": [
    {
     "name": "stdout",
     "output_type": "stream",
     "text": [
      "(3+5j)\n",
      "(6+3j)\n",
      "(9+8j)\n",
      "<class 'complex'>\n",
      "1720924121264\n"
     ]
    }
   ],
   "source": [
    "e = 3+5j\n",
    "f = 6+3j\n",
    "g = e+f\n",
    "print(e)\n",
    "print(f)\n",
    "print(g)\n",
    "print(type(g))\n",
    "print(id(g))"
   ]
  },
  {
   "cell_type": "code",
   "execution_count": 17,
   "metadata": {},
   "outputs": [
    {
     "name": "stdout",
     "output_type": "stream",
     "text": [
      "THe sum of addition of two numbers is:  (14+12j)\n",
      "THe sum of subtraction of two numbers is:  (-2+4j)\n",
      "THe sum of multiplication of two numbers is:  (16+88j)\n",
      "THe sum of division of two numbers is:  (1+0.5j)\n"
     ]
    }
   ],
   "source": [
    "d1 = complex(6,8)\n",
    "d2 = complex(8,4)\n",
    "#Addtion\n",
    "print(\"THe sum of addition of two numbers is: \", d1+d2)\n",
    "print(\"THe sum of subtraction of two numbers is: \", d1-d2)\n",
    "print(\"THe sum of multiplication of two numbers is: \", d1 * d2)\n",
    "print(\"THe sum of division of two numbers is: \", d1/d2)\n",
    "\n",
    "\n",
    "\n",
    "\n"
   ]
  },
  {
   "cell_type": "code",
   "execution_count": 24,
   "metadata": {},
   "outputs": [
    {
     "name": "stdout",
     "output_type": "stream",
     "text": [
      "(1+0j)\n",
      "(1+2j)\n",
      "(1.5+0j)\n",
      "(1.5+4.5j)\n"
     ]
    }
   ],
   "source": [
    "#Calling single parameter\n",
    "a = complex(1)\n",
    "b = complex(1,2)\n",
    "c = complex(1.5)\n",
    "d = complex(1.5,4.5)\n",
    "print(a)\n",
    "print(b)\n",
    "print(c)\n",
    "print(d)\n"
   ]
  },
  {
   "cell_type": "code",
   "execution_count": null,
   "metadata": {},
   "outputs": [],
   "source": []
  }
 ],
 "metadata": {
  "kernelspec": {
   "display_name": "Python 3",
   "language": "python",
   "name": "python3"
  },
  "language_info": {
   "codemirror_mode": {
    "name": "ipython",
    "version": 3
   },
   "file_extension": ".py",
   "mimetype": "text/x-python",
   "name": "python",
   "nbconvert_exporter": "python",
   "pygments_lexer": "ipython3",
   "version": "3.8.3"
  }
 },
 "nbformat": 4,
 "nbformat_minor": 4
}
