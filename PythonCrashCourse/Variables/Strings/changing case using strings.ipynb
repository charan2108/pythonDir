{
 "cells": [
  {
   "cell_type": "code",
   "execution_count": 2,
   "metadata": {},
   "outputs": [
    {
     "name": "stdout",
     "output_type": "stream",
     "text": [
      "Delta Force\n"
     ]
    }
   ],
   "source": [
    "# Using title\n",
    "name = \"delta force\"\n",
    "print(name.title())\n",
    "# A method is an action that Python can perform on a piece of data. \n",
    "# The dot (.) after name in name.title() tells Python to make the title() method act on the variable name"
   ]
  },
  {
   "cell_type": "code",
   "execution_count": 5,
   "metadata": {},
   "outputs": [
    {
     "name": "stdout",
     "output_type": "stream",
     "text": [
      "STEALTH CONNORS\n",
      "stealth connors\n"
     ]
    }
   ],
   "source": [
    "# Conversion of name to lower and uppercase\n",
    "name = \"Stealth Connors\"\n",
    "print(name.upper())\n",
    "\n",
    "print(name.lower())"
   ]
  },
  {
   "cell_type": "code",
   "execution_count": 11,
   "metadata": {},
   "outputs": [
    {
     "name": "stdout",
     "output_type": "stream",
     "text": [
      "Hello, Adam Gilchrist\n"
     ]
    }
   ],
   "source": [
    "# Using variables\n",
    "first_name = \"adam\"\n",
    "last_name = \"gilchrist\"\n",
    "full_name = f\"{first_name} {last_name}\"\n",
    "print(f\"Hello, {full_name.title()}\")"
   ]
  },
  {
   "cell_type": "code",
   "execution_count": 18,
   "metadata": {},
   "outputs": [
    {
     "name": "stdout",
     "output_type": "stream",
     "text": [
      "Hello, Adam\n"
     ]
    }
   ],
   "source": [
    "#Using message\n",
    "first_name=\"Adam\"\n",
    "last_name = \"gilchrist\"\n",
    "full_name = f\"{first_name} {last_name}\"\n",
    "message = (f\"Hello, {first_name.title()}\")\n",
    "print(message)"
   ]
  },
  {
   "cell_type": "code",
   "execution_count": 21,
   "metadata": {},
   "outputs": [
    {
     "name": "stdout",
     "output_type": "stream",
     "text": [
      "languages:\n",
      " c,\n",
      " c++,\n",
      " cdf \n",
      "languages:\n",
      "\t c,\n",
      "\t c++,\n",
      "\t cdf \n"
     ]
    }
   ],
   "source": [
    "#using characters\n",
    "print(\"languages:\\n c,\\n c++,\\n cdf \")\n",
    "#tabs\n",
    "print(\"languages:\\n\\t c,\\n\\t c++,\\n\\t cdf \")"
   ]
  },
  {
   "cell_type": "code",
   "execution_count": 28,
   "metadata": {},
   "outputs": [
    {
     "name": "stdout",
     "output_type": "stream",
     "text": [
      "Aerodynamics    \n",
      "No of spaces before priniting 16\n",
      "no of space after printing 12\n",
      "   Computational fluid dynamics\n",
      "the no of spaces before printing is: 31\n",
      "the no of spces after prinitng is : 28\n",
      "   Flight mechanics        \n",
      "the no of spaces before printing is: 27\n",
      "the no of spces after prinitng is : 19\n"
     ]
    }
   ],
   "source": [
    "#Strips\n",
    "favprog = \"Aerodynamics    \"\n",
    "print(favprog)\n",
    "print(\"No of spaces before priniting\", len(favprog))\n",
    "x =favprog.strip()\n",
    "print(\"no of space after printing\", len(x))\n",
    "#Leftside strip\n",
    "deltaforce = \"   Computational fluid dynamics\"\n",
    "print(deltaforce)\n",
    "print(\"the no of spaces before printing is:\", len(deltaforce))\n",
    "y =deltaforce.lstrip()\n",
    "print(\"the no of spces after prinitng is :\", len(y))\n",
    "deltaforce = \"   Flight mechanics        \"\n",
    "print(deltaforce)\n",
    "print(\"the no of spaces before printing is:\", len(deltaforce))\n",
    "y =deltaforce.rstrip()\n",
    "print(\"the no of spces after prinitng is :\", len(y))"
   ]
  },
  {
   "cell_type": "code",
   "execution_count": null,
   "metadata": {},
   "outputs": [],
   "source": []
  }
 ],
 "metadata": {
  "kernelspec": {
   "display_name": "Python 3",
   "language": "python",
   "name": "python3"
  },
  "language_info": {
   "codemirror_mode": {
    "name": "ipython",
    "version": 3
   },
   "file_extension": ".py",
   "mimetype": "text/x-python",
   "name": "python",
   "nbconvert_exporter": "python",
   "pygments_lexer": "ipython3",
   "version": "3.8.3"
  }
 },
 "nbformat": 4,
 "nbformat_minor": 4
}
