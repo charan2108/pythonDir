{
 "cells": [
  {
   "cell_type": "code",
   "execution_count": 6,
   "metadata": {},
   "outputs": [
    {
     "name": "stdout",
     "output_type": "stream",
     "text": [
      "Viv Richards\n",
      "S.M.Gavasakar\n",
      "S.tendulkar\n",
      "A.Border\n",
      "B.Lara\n",
      "['A.Border', 'B.Lara', 'S.M.Gavasakar', 'S.tendulkar', 'Viv Richards']\n"
     ]
    }
   ],
   "source": [
    "cricketers = ['Viv Richards', 'S.M.Gavasakar', 'S.tendulkar', 'A.Border', 'B.Lara']\n",
    "for cricketer in cricketers:\n",
    "    print(cricketer)\n",
    "cricketers.sort()\n",
    "print(cricketers)\n",
    "cricketers.sort(reverse=True)\n",
    "   "
   ]
  },
  {
   "cell_type": "code",
   "execution_count": null,
   "metadata": {},
   "outputs": [],
   "source": []
  }
 ],
 "metadata": {
  "kernelspec": {
   "display_name": "Python 3",
   "language": "python",
   "name": "python3"
  },
  "language_info": {
   "codemirror_mode": {
    "name": "ipython",
    "version": 3
   },
   "file_extension": ".py",
   "mimetype": "text/x-python",
   "name": "python",
   "nbconvert_exporter": "python",
   "pygments_lexer": "ipython3",
   "version": "3.8.3"
  }
 },
 "nbformat": 4,
 "nbformat_minor": 4
}
