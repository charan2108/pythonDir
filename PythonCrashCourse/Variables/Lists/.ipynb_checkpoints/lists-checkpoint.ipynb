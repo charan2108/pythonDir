{
 "cells": [
  {
   "cell_type": "code",
   "execution_count": 21,
   "metadata": {},
   "outputs": [
    {
     "name": "stdout",
     "output_type": "stream",
     "text": [
      "['tomcat', 'herohonda', 'apache', 'harley', 'yamaha', 'splendor']\n",
      "<class 'list'>\n",
      "6\n",
      "\n",
      "\n",
      "The bikes[0] is tomcat\n",
      "The bikes[1] is herohonda\n",
      "The bikes[2] is apache\n",
      "The bikes[3] is harley\n",
      "The bikes[4] is yamaha\n",
      "The bikes[5] is splendor\n",
      "\n",
      "\n",
      "Tomcat\n",
      "Herohonda\n",
      "Apache\n",
      "Harley\n",
      "Yamaha\n",
      "Splendor\n",
      "\n",
      "\n",
      "TOMCAT\n",
      "HEROHONDA\n",
      "APACHE\n",
      "HARLEY\n",
      "YAMAHA\n",
      "SPLENDOR\n",
      "\n",
      "\n",
      "tomcat\n",
      "herohonda\n",
      "apache\n",
      "harley\n",
      "yamaha\n",
      "splendor\n",
      "\n",
      "\n",
      "tomcat\n",
      "herohonda\n",
      "apache\n",
      "harley\n",
      "yamaha\n",
      "splendor\n",
      "\n",
      "\n",
      "splendor\n",
      "yamaha\n",
      "harley\n",
      "apache\n",
      "herohonda\n",
      "tomcat\n"
     ]
    }
   ],
   "source": [
    "#lists\n",
    "bikes = ['tomcat', 'herohonda', 'apache', 'harley', 'yamaha', 'splendor']\n",
    "print(bikes)\n",
    "print(type(bikes))\n",
    "print(len(bikes))\n",
    "print(\"\\n\")\n",
    "print(\"The bikes[0] is\", bikes[0])\n",
    "print(\"The bikes[1] is\",bikes[1])\n",
    "print(\"The bikes[2] is\",bikes[2])\n",
    "print(\"The bikes[3] is\",bikes[3])\n",
    "print(\"The bikes[4] is\",bikes[4])\n",
    "print(\"The bikes[5] is\",bikes[5])\n",
    "print(\"\\n\")\n",
    "#Capitalise\n",
    "print(bikes[0].title())\n",
    "print(bikes[1].title())\n",
    "print(bikes[2].title())\n",
    "print(bikes[3].title())\n",
    "print(bikes[4].title())\n",
    "print(bikes[5].title())\n",
    "print(\"\\n\")\n",
    "#UpperCase\n",
    "print(bikes[0].upper())\n",
    "print(bikes[1].upper())\n",
    "print(bikes[2].upper())\n",
    "print(bikes[3].upper())\n",
    "print(bikes[4].upper())\n",
    "print(bikes[5].upper())\n",
    "print(\"\\n\")\n",
    "#Lowercase\n",
    "print(bikes[0].lower())\n",
    "print(bikes[1].lower())\n",
    "print(bikes[2].lower())\n",
    "print(bikes[3].lower())\n",
    "print(bikes[4].lower())\n",
    "print(bikes[5].lower())\n",
    "print(\"\\n\")\n",
    "print(bikes[-6])\n",
    "print(bikes[-5])\n",
    "print(bikes[-4])\n",
    "print(bikes[-3])\n",
    "print(bikes[-2])\n",
    "print(bikes[-1])\n",
    "\n",
    "print(\"\\n\")\n",
    "print(bikes[-1])\n",
    "print(bikes[-2])\n",
    "print(bikes[-3])\n",
    "print(bikes[-4])\n",
    "print(bikes[-5])\n",
    "print(bikes[-6])\n",
    "\n"
   ]
  },
  {
   "cell_type": "code",
   "execution_count": 28,
   "metadata": {},
   "outputs": [
    {
     "name": "stdout",
     "output_type": "stream",
     "text": [
      "my first bike was Splendor\n"
     ]
    }
   ],
   "source": [
    "#Using individual values from lists\n",
    "bikes = ['tomcat', 'herohonda', 'apache', 'harley', 'yamaha', 'splendor']\n",
    "message = f\"my first bike was {bikes[0].title()}\"\n",
    "message = f\"my first bike was {bikes[5].title()}\"\n",
    "print(message)"
   ]
  },
  {
   "cell_type": "code",
   "execution_count": 37,
   "metadata": {},
   "outputs": [
    {
     "name": "stdout",
     "output_type": "stream",
     "text": [
      "['honda', 'suxuki', 'ktm']\n",
      "['R15', 'suxuki', 'ktm']\n"
     ]
    }
   ],
   "source": [
    "Bikes = ['honda', 'suxuki', 'ktm']\n",
    "print(Bikes)\n",
    "Bikes[0]='R15'\n",
    "print(Bikes)\n",
    "\n"
   ]
  },
  {
   "cell_type": "code",
   "execution_count": 41,
   "metadata": {},
   "outputs": [
    {
     "name": "stdout",
     "output_type": "stream",
     "text": [
      "['honda', 'suxuki', 'ktm']\n",
      "['honda', 'suxuki', 'ktm', 'R15', 'StreetHawk']\n"
     ]
    }
   ],
   "source": [
    "Bikes = ['honda', 'suxuki', 'ktm']\n",
    "print(Bikes)\n",
    "Bikes.append('R15')\n",
    "Bikes.append('StreetHawk')\n",
    "print(Bikes)"
   ]
  },
  {
   "cell_type": "code",
   "execution_count": 43,
   "metadata": {},
   "outputs": [
    {
     "name": "stdout",
     "output_type": "stream",
     "text": [
      "['Honda', 'R15', 'KTM', 'F15', 'Tomcat', 'HD']\n"
     ]
    }
   ],
   "source": [
    "#Another way to append bikes\n",
    "\n",
    "bikes = []\n",
    "\n",
    "bikes.append('Honda')\n",
    "bikes.append('R15')\n",
    "bikes.append('KTM')\n",
    "bikes.append('F15')\n",
    "bikes.append('Tomcat')\n",
    "bikes.append('HD')\n",
    "\n",
    "print(bikes)\n",
    "\n"
   ]
  },
  {
   "cell_type": "code",
   "execution_count": 50,
   "metadata": {},
   "outputs": [
    {
     "name": "stdout",
     "output_type": "stream",
     "text": [
      "['Ducati', 'honda', 'suxuki', 'ktm', 'Harley Davidson']\n",
      "['honda', 'suxuki', 'ktm', 'Harley Davidson']\n"
     ]
    }
   ],
   "source": [
    "#Inserting Elements\n",
    "Bikes = ['honda', 'suxuki', 'ktm']\n",
    "Bikes.insert(0, 'Ducati')\n",
    "Bikes.insert(4, 'Harley Davidson')\n",
    "print(Bikes)\n",
    "# Removing\n",
    "del Bikes[0]\n",
    "print(Bikes)"
   ]
  },
  {
   "cell_type": "code",
   "execution_count": 52,
   "metadata": {},
   "outputs": [
    {
     "name": "stdout",
     "output_type": "stream",
     "text": [
      "['honda', 'suxuki', 'ktm']\n",
      "['honda', 'suxuki']\n",
      "ktm\n"
     ]
    }
   ],
   "source": [
    "#popmethod\n",
    "Bikes = ['honda', 'suxuki', 'ktm']\n",
    "print(Bikes)\n",
    "popped_Bikes = Bikes.pop()\n",
    "print(Bikes)\n",
    "print(popped_Bikes)"
   ]
  },
  {
   "cell_type": "code",
   "execution_count": 55,
   "metadata": {},
   "outputs": [
    {
     "name": "stdout",
     "output_type": "stream",
     "text": [
      "the last owned bike was Ktm\n",
      "['Ducati', 'Ducati', 'Ducati', 'Honda', 'R15', 'KTM', 'F15', 'Tomcat', 'HD']\n"
     ]
    }
   ],
   "source": [
    "Bikes = ['honda', 'suxuki', 'ktm']\n",
    "last_owned = Bikes.pop()\n",
    "print(f\"the last owned bike was {last_owned.title()}\")\n",
    "print(bikes)"
   ]
  },
  {
   "cell_type": "code",
   "execution_count": null,
   "metadata": {},
   "outputs": [],
   "source": []
  }
 ],
 "metadata": {
  "kernelspec": {
   "display_name": "Python 3",
   "language": "python",
   "name": "python3"
  },
  "language_info": {
   "codemirror_mode": {
    "name": "ipython",
    "version": 3
   },
   "file_extension": ".py",
   "mimetype": "text/x-python",
   "name": "python",
   "nbconvert_exporter": "python",
   "pygments_lexer": "ipython3",
   "version": "3.8.3"
  }
 },
 "nbformat": 4,
 "nbformat_minor": 4
}
