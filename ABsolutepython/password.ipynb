{
 "cells": [
  {
   "cell_type": "code",
   "execution_count": 3,
   "metadata": {},
   "outputs": [
    {
     "ename": "SyntaxError",
     "evalue": "invalid syntax (<ipython-input-3-718d6e117c82>, line 1)",
     "output_type": "error",
     "traceback": [
      "\u001b[1;36m  File \u001b[1;32m\"<ipython-input-3-718d6e117c82>\"\u001b[1;36m, line \u001b[1;32m1\u001b[0m\n\u001b[1;33m    print(\"Welcome to System Security Inc.\")print(\"-- where security is our middle name\\n\")password = input(\"Enter your password: \")if password == \"secret\":    print(\"Access Granted\"\u001b[0m\n\u001b[1;37m                                            ^\u001b[0m\n\u001b[1;31mSyntaxError\u001b[0m\u001b[1;31m:\u001b[0m invalid syntax\n"
     ]
    }
   ],
   "source": [
    "print(\"Welcome to System Security Inc.\")print(\"-- where security is our middle name\\n\")password = input(\"Enter your password: \")if password == \"secret\":    print(\"Access Granted\""
   ]
  },
  {
   "cell_type": "code",
   "execution_count": 6,
   "metadata": {},
   "outputs": [
    {
     "name": "stdout",
     "output_type": "stream",
     "text": [
      "Welcome to the Ansys Inc\n",
      "---The software is the key\n",
      "Enter the password:DeltaForce\n",
      "Access Granted\n"
     ]
    }
   ],
   "source": [
    "print(\"Welcome to the Ansys Inc\")\n",
    "print(\"---The software is the key\")\n",
    "\n",
    "password = input(\"Enter the password:\")\n",
    "if password == \"DeltaForce\":\n",
    "    print(\"Access Granted\")"
   ]
  },
  {
   "cell_type": "code",
   "execution_count": 10,
   "metadata": {},
   "outputs": [
    {
     "name": "stdout",
     "output_type": "stream",
     "text": [
      "Welcome to Ansys Inc\n",
      "Enter the UsernameMissionImpossible\n",
      "Enter the passwordStealthsniper\n",
      "Access Granted\n"
     ]
    }
   ],
   "source": [
    "print(\"Welcome to Ansys Inc\")\n",
    "\n",
    "UserName = input(\"Enter the Username\")\n",
    "Password = input(\"Enter the password\")\n",
    "\n",
    "if UserName == 'MissionImpossible':\n",
    "    if Password == 'Stealthsniper':\n",
    "        print(\"Access Granted\")"
   ]
  },
  {
   "cell_type": "code",
   "execution_count": null,
   "metadata": {},
   "outputs": [],
   "source": []
  }
 ],
 "metadata": {
  "kernelspec": {
   "display_name": "Python 3",
   "language": "python",
   "name": "python3"
  },
  "language_info": {
   "codemirror_mode": {
    "name": "ipython",
    "version": 3
   },
   "file_extension": ".py",
   "mimetype": "text/x-python",
   "name": "python",
   "nbconvert_exporter": "python",
   "pygments_lexer": "ipython3",
   "version": "3.8.3"
  }
 },
 "nbformat": 4,
 "nbformat_minor": 4
}
